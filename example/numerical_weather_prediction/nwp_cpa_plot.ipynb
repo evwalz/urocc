{
 "cells": [
  {
   "cell_type": "markdown",
   "metadata": {},
   "source": [
    "### Numerical weather prediction (NWP) example\n",
    "Code to replicate the CPA plots to compare the performance of the HRES forecast and the persistence forecast for the variables 2m temperature, wind speed and precipitation for different leadtimes. As respective observation the ERA5 reanalysis product is taken. The data can be downloaded from the following sources:\n",
    "- https://confluence.ecmwf.int/display/TIGGE\n",
    "- https://cds.climate.copernicus.eu/cdsapp#!/dataset/reanalysis-era5-single-levels?tab=overview\n",
    "\n",
    "Before the netCDF files were imported into Python they were modified by CDO.\n",
    "\n",
    "The following code computes the CPA plot for precipitation. To obtain the respective plots for wind speed and Temperature replace the name of the variable."
   ]
  },
  {
   "cell_type": "code",
   "execution_count": null,
   "metadata": {},
   "outputs": [],
   "source": [
    "# Import packages\n",
    "import xarray as xr \n",
    "import numpy as np\n",
    "from netCDF4 import Dataset\n",
    "from scipy.stats import rankdata"
   ]
  },
  {
   "cell_type": "markdown",
   "metadata": {},
   "source": [
    "#### CPA between Persistence and Reanalysis \n",
    "The persistence forecast uses the present condition as forecast for future conditions. For this comparison the ERA5 reanalysis product is used"
   ]
  },
  {
   "cell_type": "code",
   "execution_count": null,
   "metadata": {},
   "outputs": [],
   "source": [
    "target_obs = 'Precip_Reanalysis_2006-2018.nc'\n",
    "DS_observation = xr.open_dataset(target_obs)\n",
    "\n",
    "# set lead time: For Leadtime of one day ahead use lead=1 and for Leadtime of 5 days ahead use lead=5\n",
    "lead = 1\n",
    "# index\n",
    "m = 0\n",
    "# start dataset from 01.01.2006 \n",
    "first_day = 5\n",
    "# initialize\n",
    "CPA_All = np.zeros(45)\n",
    "CPAEurop = np.zeros((199,279))\n",
    "# indices for reanalysis\n",
    "indices_start = np.array([0,   90,  181,  273,  365,  456,  547,  639,  731,  821,  912,\n",
    "       1004, 1096, 1186, 1277, 1369, 1461, 1551, 1642, 1734, 1826, 1917,\n",
    "       2008, 2100, 2192, 2282, 2373, 2465, 2557, 2647, 2738, 2830, 2922,\n",
    "       3012, 3103, 3195, 3287, 3378, 3469, 3561, 3653, 3743, 3834, 3926,\n",
    "       4018])\n",
    "indices_end = np.array([365,  456,  547,  639,  731,  821,  912, 1004, 1096, 1186, 1277,\n",
    "       1369, 1461, 1551, 1642, 1734, 1826, 1917, 2008, 2100, 2192, 2282,\n",
    "       2373, 2465, 2557, 2647, 2738, 2830, 2922, 3012, 3103, 3195, 3287,\n",
    "       3378, 3469, 3561, 3653, 3743, 3834, 3926, 4018, 4108, 4199, 4291,\n",
    "       4383])\n",
    "indices_start = indices_start + first_day\n",
    "indices_end = indices_end + first_day\n",
    "\n",
    "for indx in range(0,45):\n",
    "    start = indices_start[indx]\n",
    "    end = indices_end[indx]\n",
    "\n",
    "    predictor_nc = np.asarray(DS_observation.tp[(start-lead):(end-lead),:,:])\n",
    "    response_nc = np.asarray(DS_observation.tp[start:end,:,:]) \n",
    "    \n",
    "    response = response_nc.flatten()\n",
    "    predictor = predictor_nc.flatten()\n",
    "             \n",
    "    resOrder = np.argsort(response)\n",
    "    resSort = response[resOrder] \n",
    "    preSort = predictor[resOrder]                \n",
    "    preRank = rankdata(preSort, method='average')\n",
    "    resRank = rankdata(resSort, method='average')\n",
    "    resClass = rankdata(resSort, method='dense')\n",
    "    CPA_All[m] = (np.cov(resClass,preRank)[0][1]/np.cov(resClass,resRank)[0][1]+1)/2 \n",
    "    m = m+1\n",
    "\n",
    "np.savetxt('CPA_Precipitation_24.txt',CPA_All)"
   ]
  },
  {
   "cell_type": "markdown",
   "metadata": {},
   "source": [
    "#### CPA between HRES and Reanalysis \n",
    "\n",
    "Hres from tigge is used as forecast and compared to the ERA5 reanalysis data."
   ]
  },
  {
   "cell_type": "code",
   "execution_count": null,
   "metadata": {},
   "outputs": [],
   "source": [
    "target_obs = 'Precipitation_Reanalysis_2006-2018.nc'\n",
    "DS_observation = xr.open_dataset(target_obs)\n",
    "target_hres = 'Precipitation_hres_24.nc'\n",
    "DS_predictor = xr.open_dataset(target_hres)\n",
    "\n",
    "# index\n",
    "m = 0\n",
    "# start dataset from 01.01.2006 \n",
    "first_day = 5\n",
    "CPA_All = np.zeros(45)\n",
    "CPAEurop = np.zeros((199,279))\n",
    "# indices for reanalysis and hres\n",
    "indices_start = np.array([0,   90,  181,  273,  365,  456,  547,  639,  731,  821,  912,\n",
    "       1004, 1096, 1186, 1277, 1369, 1461, 1551, 1642, 1734, 1826, 1917,\n",
    "       2008, 2100, 2192, 2282, 2373, 2465, 2557, 2647, 2738, 2830, 2922,\n",
    "       3012, 3103, 3195, 3287, 3378, 3469, 3561, 3653, 3743, 3834, 3926,\n",
    "       4018])\n",
    "indices_end = np.array([365,  456,  547,  639,  731,  821,  912, 1004, 1096, 1186, 1277,\n",
    "       1369, 1461, 1551, 1642, 1734, 1826, 1917, 2008, 2100, 2192, 2282,\n",
    "       2373, 2465, 2557, 2647, 2738, 2830, 2922, 3012, 3103, 3195, 3287,\n",
    "       3378, 3469, 3561, 3653, 3743, 3834, 3926, 4018, 4108, 4199, 4291,\n",
    "       4383])\n",
    "\n",
    "indices_start_rea = indices_start + first_day\n",
    "indices_end_rea = indices_end + first_day\n",
    "\n",
    "for indx in range(0,45):\n",
    "    start = indices_start[indx]\n",
    "    end = indices_end[indx]\n",
    "    start_rea = indices_start_rea[indx]\n",
    "    end_rea = indices_end_rea[indx]\n",
    "    \n",
    "    predictor_nc = np.asarray(DS_predictor.tp[start:end,:,:])\n",
    "    response_nc = np.asarray(DS_observation.tp[start_rea:end_rea,:,:])\n",
    "\n",
    "    response = response_nc.flatten()\n",
    "    predictor = predictor_nc.flatten()\n",
    "             \n",
    "    resOrder = np.argsort(response)\n",
    "    resSort = response[resOrder] \n",
    "    preSort = predictor[resOrder]                \n",
    "    preRank = rankdata(preSort, method='average')\n",
    "    resRank = rankdata(resSort, method='average')\n",
    "    resClass = rankdata(resSort, method='dense')\n",
    "    CPA_All[m] = (np.cov(resClass,preRank)[0][1]/np.cov(resClass,resRank)[0][1]+1)/2 \n",
    "    print(CPA_All[m])\n",
    "    m = m+1\n",
    "print(CPA_All)\n",
    "\n",
    "np.savetxt('CPA_Precipitation_hres_24.txt',CPA_All)"
   ]
  }
 ],
 "metadata": {
  "kernelspec": {
   "display_name": "Python 3",
   "language": "python",
   "name": "python3"
  },
  "language_info": {
   "codemirror_mode": {
    "name": "ipython",
    "version": 3
   },
   "file_extension": ".py",
   "mimetype": "text/x-python",
   "name": "python",
   "nbconvert_exporter": "python",
   "pygments_lexer": "ipython3",
   "version": "3.7.6"
  }
 },
 "nbformat": 4,
 "nbformat_minor": 2
}
