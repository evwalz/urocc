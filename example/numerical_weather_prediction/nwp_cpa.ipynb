{
 "cells": [
  {
   "cell_type": "markdown",
   "metadata": {},
   "source": [
    "### Numerical weather prediction (NWP) example\n",
    "Code to replicate the CPA plots to compare the performance of the HRES forecast and the persistence forecast for the variables 2m temperature, wind speed and precipitation for different leadtimes. As respective observation the ERA5 reanalysis product is taken. The data can be downloaded from the following sources:\n",
    "- https://confluence.ecmwf.int/display/TIGGE\n",
    "- https://cds.climate.copernicus.eu/cdsapp#!/dataset/reanalysis-era5-single-levels?tab=overview\n",
    "\n",
    "Before the netCDF files were imported into Python they were modified by CDO.\n",
    "\n",
    "The following code computes the CPA plot for precipitation. To obtain the respective plots for wind speed and Temperature replace the name of the variable."
   ]
  },
  {
   "cell_type": "code",
   "execution_count": null,
   "metadata": {},
   "outputs": [],
   "source": [
    "# Import packages\n",
    "import xarray as xr \n",
    "import numpy as np\n",
    "from netCDF4 import Dataset\n",
    "from urocc import cpa\n",
    "import matplotlib.pyplot as plt"
   ]
  },
  {
   "cell_type": "markdown",
   "metadata": {},
   "source": [
    "#### CPA between Persistence and Reanalysis \n",
    "The persistence forecast uses the present condition as forecast for future conditions. For this comparison the ERA5 reanalysis product is used.\n",
    "\n",
    "Computation performed for precipitation. For 2m temperature replace variable name *tp* in function *cpa_prep* to *t2m*."
   ]
  },
  {
   "cell_type": "code",
   "execution_count": null,
   "metadata": {},
   "outputs": [],
   "source": [
    "def cpa_prep(response, predictor):\n",
    "    # varible name: tp for precipitation\n",
    "    #               t2m for 2m temperature\n",
    "    response2 = response.tp.values.flatten()\n",
    "    predictor2 = predictor.tp.values.flatten()\n",
    "    return cpa(response2, predictor2)"
   ]
  },
  {
   "cell_type": "code",
   "execution_count": null,
   "metadata": {},
   "outputs": [],
   "source": [
    "target_obs = 'Precip_Reanalysis_2006-2018.nc'\n",
    "DS_observation = xr.open_dataset(target_obs)\n",
    "\n",
    "# set lead time: For Leadtime of one day ahead use lead=1 and for Leadtime of 5 days ahead use lead=5\n",
    "lead = 1\n",
    "# initialize\n",
    "cpa_list = []\n",
    "\n",
    "for i in range(11):\n",
    "    year = 2007 + i\n",
    "    year2 = 2008 + i\n",
    "    tsel1 = pd.date_range(start='01/01/'+str(year), end='12/31/'+str(year))\n",
    "    tsel2 = pd.date_range(start='04/01/'+str(year), end='03/31/'+ str(year2))\n",
    "    tsel3 = pd.date_range(start='07/01/'+str(year), end='06/30/'+ str(year2))\n",
    "    tsel4 = pd.date_range(start='10/01/'+str(year), end='09/30/'+ str(year2))\n",
    "    tsel5 = tsel1 -  pd.to_timedelta(lead, unit='d')\n",
    "    tsel6 = tsel2 -  pd.to_timedelta(lead, unit='d')\n",
    "    tsel7 = tsel3 -  pd.to_timedelta(lead, unit='d')\n",
    "    tsel8 = tsel4 -  pd.to_timedelta(lead, unit='d')\n",
    "    response1 = DS_observation.sel(time = tsel1)\n",
    "    response2 = DS_observation.sel(time = tsel2)\n",
    "    response3 = DS_observation.sel(time = tsel3)\n",
    "    response4 = DS_observation.sel(time = tsel4)\n",
    "    \n",
    "    predictor1 = DS_observation.sel(time = tsel5)\n",
    "    predictor2 = DS_observation.sel(time = tsel6)\n",
    "    predictor3 = DS_observation.sel(time = tsel7)\n",
    "    predictor4 = DS_observation.sel(time = tsel8)\n",
    "    \n",
    "    cpa_list.append(cpa_prep(response1, predictor1))\n",
    "    cpa_list.append(cpa_prep(response2, predictor2))\n",
    "    cpa_list.append(cpa_prep(response3, predictor3))\n",
    "    cpa_list.append(cpa_prep(response4, predictor4))\n",
    "\n",
    "tsel1 = pd.date_range(start='01/01/2018', end='12/31/2018')\n",
    "tsel5 = tsel1 -  pd.to_timedelta(lead, unit='d')\n",
    "response1 = DS_observation.sel(time = tsel1)\n",
    "predictor1 = DS_observation.sel(time = tsel5)\n",
    "cpa_list.append(cpa(response1, predictor1))\n",
    "\n",
    "np.savetxt('CPA_Precipitation_per_24.txt',cpa_list)"
   ]
  },
  {
   "cell_type": "markdown",
   "metadata": {},
   "source": [
    "#### CPA between HRES and Reanalysis \n",
    "\n",
    "Hres from tigge is used as forecast and compared to the ERA5 reanalysis data."
   ]
  },
  {
   "cell_type": "code",
   "execution_count": null,
   "metadata": {},
   "outputs": [],
   "source": [
    "target_obs = 'Precipitation_Reanalysis_2006-2018.nc'\n",
    "DS_observation = xr.open_dataset(target_obs)\n",
    "target_hres = 'Precipitation_hres_24.nc'\n",
    "DS_predictor = xr.open_dataset(target_hres)\n",
    "\n",
    "lead = 1\n",
    "cpa_list = []\n",
    "# indices for reanalysis and hres\n",
    "for i in range(11):\n",
    "    year = 2007 + i\n",
    "    year2 = 2008 + i\n",
    "    tsel1 = pd.date_range(start='01/01/'+str(year), end='12/31/'+str(year))\n",
    "    tsel2 = pd.date_range(start='04/01/'+str(year), end='03/31/'+ str(year2))\n",
    "    tsel3 = pd.date_range(start='07/01/'+str(year), end='06/30/'+ str(year2))\n",
    "    tsel4 = pd.date_range(start='10/01/'+str(year), end='09/30/'+ str(year2))\n",
    "    \n",
    "    response1 = DS_observation.sel(time = tsel1)\n",
    "    response2 = DS_observation.sel(time = tsel2)\n",
    "    response3 = DS_observation.sel(time = tsel3)\n",
    "    response4 = DS_observation.sel(time = tsel4)\n",
    "    \n",
    "    predictor1 = DS_predictor.sel(time = tsel1)\n",
    "    predictor2 = DS_predictor.sel(time = tsel2)\n",
    "    predictor3 = DS_predictor.sel(time = tsel3)\n",
    "    predictor4 = DS_predictor.sel(time = tsel4)\n",
    "    \n",
    "    cpa_list.append(cpa_prep(response1, predictor1))\n",
    "    cpa_list.append(cpa_prep(response2, predictor2))\n",
    "    cpa_list.append(cpa_prep(response3, predictor3))\n",
    "    cpa_list.append(cpa_prep(response4, predictor4))\n",
    "\n",
    "tsel1 = pd.date_range(start='01/01/2018', end='12/31/2018')\n",
    "response1 = DS_observation.sel(time = tsel1)\n",
    "predictor1 = DS_predictor.sel(time = tsel1)\n",
    "cpa_list.append(cpa_prep(response1, predictor1))\n",
    "\n",
    "np.savetxt('CPA_Precipitation_hres_24.txt',cpa_list)"
   ]
  },
  {
   "cell_type": "markdown",
   "metadata": {},
   "source": [
    "## Plot\n",
    "\n",
    "Plot of CPA for Persistence and HRES for different leadtimes over time"
   ]
  },
  {
   "cell_type": "code",
   "execution_count": null,
   "metadata": {},
   "outputs": [],
   "source": [
    "lead1_per = np.loadtxt('CPA_Precipitation_pre_24.txt')\n",
    "lead2_per = np.loadtxt('CPA_Precipitation_pre_48.txt')\n",
    "lead3_per = np.loadtxt('CPA_Precipitation_pre_72.txt')\n",
    "lead4_per = np.loadtxt('CPA_Precipitation_pre_96.txt')\n",
    "lead5_per = np.loadtxt('CPA_Precipitation_pre_120.txt')\n",
    "\n",
    "lead1_hres = np.loadtxt('CPA_Precipitation_hres_24.txt')\n",
    "lead2_hres = np.loadtxt('CPA_Precipitation_hres_48.txt')\n",
    "lead3_hres = np.loadtxt('CPA_Precipitation_hres_72.txt')\n",
    "lead4_hres = np.loadtxt('CPA_Precipitation_hres_96.txt')\n",
    "lead5_hres = np.loadtxt('CPA_Precipitation_hres_120.txt')"
   ]
  },
  {
   "cell_type": "code",
   "execution_count": null,
   "metadata": {},
   "outputs": [],
   "source": [
    "color_blue = np.array([\"#9ECAE1\", \"#6BAED6\", \"#4292C6\", \"#2171B5\", \"#084594\"])\n",
    "color_green = np.array([\"#A1D99B\", \"#74C476\", \"#41AB5D\", \"#238B45\", \"#005A32\"])\n",
    "\n",
    "plt.plot(np.arange(45), lead1_per[0:45], '.', color = color_green[4], markersize = 1.5)\n",
    "plt.plot(np.arange(0, 45, 4), lead1_per[np.arange(0, 45, 4)], color = color_green[4])\n",
    "plt.plot(np.arange(45), lead2_per[0:45], '.', color = color_green[3], markersize = 1.5)\n",
    "plt.plot(np.arange(0, 45, 4), lead2_per[np.arange(0, 45, 4)], color = color_green[3])\n",
    "plt.plot(np.arange(45), lead3_per[0:45], '.', color = color_green[2], markersize = 1.5)\n",
    "plt.plot(np.arange(0, 45, 4), lead3_per[np.arange(0, 45, 4)], color = color_green[2])\n",
    "plt.plot(np.arange(45), lead4_per[0:45], '.', color = color_green[1], markersize = 1.5)\n",
    "plt.plot(np.arange(0, 45, 4), lead4_per[np.arange(0, 45, 4)], color = color_green[1])\n",
    "plt.plot(np.arange(45), lead5_per[0:45], '.', color = color_green[0], markersize = 1.5)\n",
    "plt.plot(np.arange(0, 45, 4), lead5_per[np.arange(0, 45, 4)], color = color_green[0])\n",
    "\n",
    "plt.plot(np.arange(45), lead1_hres, '.',color = color_blue[4], markersize = 1.5)\n",
    "plt.plot(np.arange(0, 45, 4), lead1_hres[np.arange(0, 45, 4)],color = color_blue[4])\n",
    "plt.plot(np.arange(45), lead2_hres, '.',color = color_blue[3], markersize = 1.5)\n",
    "plt.plot(np.arange(0, 45, 4), lead2_hres[np.arange(0, 45, 4)],color = color_blue[3])\n",
    "plt.plot(np.arange(45), lead3_hres, '.',color = color_blue[2], markersize = 1.5)\n",
    "plt.plot(np.arange(0, 45, 4), lead3_hres[np.arange(0, 45, 4)],color = color_blue[2])\n",
    "plt.plot(np.arange(45), lead4_hres, '.',color = color_blue[1], markersize = 1.5)\n",
    "plt.plot(np.arange(0, 45, 4), lead4_hres[np.arange(0, 45, 4)],color = color_blue[1])\n",
    "plt.plot(np.arange(45), lead5_hres, '.',color = color_blue[0], markersize = 1.5)\n",
    "plt.plot(np.arange(0, 45, 4), lead5_hres[np.arange(0, 45, 4)],color = color_blue[0])\n",
    "\n",
    "plt.xlabel('Year')\n",
    "plt.ylabel('CPA')\n",
    "ticks = plt.xticks(np.arange(4,45,12),[2008, 2011, 2014, 2017])  "
   ]
  }
 ],
 "metadata": {
  "kernelspec": {
   "display_name": "Python 3",
   "language": "python",
   "name": "python3"
  },
  "language_info": {
   "codemirror_mode": {
    "name": "ipython",
    "version": 3
   },
   "file_extension": ".py",
   "mimetype": "text/x-python",
   "name": "python",
   "nbconvert_exporter": "python",
   "pygments_lexer": "ipython3",
   "version": "3.8.5"
  }
 },
 "nbformat": 4,
 "nbformat_minor": 2
}
